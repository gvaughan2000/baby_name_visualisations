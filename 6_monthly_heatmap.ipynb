{
 "cells": [
  {
   "cell_type": "code",
   "execution_count": 1,
   "id": "5adb614b",
   "metadata": {},
   "outputs": [
    {
     "name": "stdout",
     "output_type": "stream",
     "text": [
      "8\n",
      "6\n",
      "7\n"
     ]
    }
   ],
   "source": [
    "import pandas as pd\n",
    "import seaborn as sns\n",
    "import matplotlib.pyplot as plt\n",
    "\n",
    "girls = pd.read_excel('../Data/2021girlsnames.xlsx', sheet_name='5', skiprows=6)\n",
    "\n",
    "girls_data = girls[girls['Rank']!='All ranks']\n",
    "\n",
    "girls_total = girls[girls['Rank']=='All ranks']\n",
    "girls_total_dict = girls_total.set_index('Month')['Count'].to_dict()"
   ]
  },
  {
   "cell_type": "code",
   "execution_count": 2,
   "id": "bd78a428",
   "metadata": {},
   "outputs": [
    {
     "name": "stderr",
     "output_type": "stream",
     "text": [
      "C:\\Users\\gv9\\AppData\\Local\\Temp\\ipykernel_18436\\477617558.py:7: SettingWithCopyWarning: \n",
      "A value is trying to be set on a copy of a slice from a DataFrame.\n",
      "Try using .loc[row_indexer,col_indexer] = value instead\n",
      "\n",
      "See the caveats in the documentation: https://pandas.pydata.org/pandas-docs/stable/user_guide/indexing.html#returning-a-view-versus-a-copy\n",
      "  girls_data['Percentage'] = girls_data.apply(get_perc, axis=1)\n"
     ]
    },
    {
     "data": {
      "text/html": [
       "<div>\n",
       "<style scoped>\n",
       "    .dataframe tbody tr th:only-of-type {\n",
       "        vertical-align: middle;\n",
       "    }\n",
       "\n",
       "    .dataframe tbody tr th {\n",
       "        vertical-align: top;\n",
       "    }\n",
       "\n",
       "    .dataframe thead th {\n",
       "        text-align: right;\n",
       "    }\n",
       "</style>\n",
       "<table border=\"1\" class=\"dataframe\">\n",
       "  <thead>\n",
       "    <tr style=\"text-align: right;\">\n",
       "      <th></th>\n",
       "      <th>Month</th>\n",
       "      <th>Rank</th>\n",
       "      <th>Name</th>\n",
       "      <th>Count</th>\n",
       "      <th>Percentage</th>\n",
       "    </tr>\n",
       "  </thead>\n",
       "  <tbody>\n",
       "    <tr>\n",
       "      <th>0</th>\n",
       "      <td>January</td>\n",
       "      <td>1</td>\n",
       "      <td>Olivia</td>\n",
       "      <td>280</td>\n",
       "      <td>1.209608</td>\n",
       "    </tr>\n",
       "    <tr>\n",
       "      <th>1</th>\n",
       "      <td>January</td>\n",
       "      <td>2</td>\n",
       "      <td>Amelia</td>\n",
       "      <td>223</td>\n",
       "      <td>0.963366</td>\n",
       "    </tr>\n",
       "    <tr>\n",
       "      <th>2</th>\n",
       "      <td>January</td>\n",
       "      <td>3</td>\n",
       "      <td>Isla</td>\n",
       "      <td>212</td>\n",
       "      <td>0.915846</td>\n",
       "    </tr>\n",
       "    <tr>\n",
       "      <th>3</th>\n",
       "      <td>January</td>\n",
       "      <td>4</td>\n",
       "      <td>Mia</td>\n",
       "      <td>192</td>\n",
       "      <td>0.829445</td>\n",
       "    </tr>\n",
       "    <tr>\n",
       "      <th>4</th>\n",
       "      <td>January</td>\n",
       "      <td>5</td>\n",
       "      <td>Ava</td>\n",
       "      <td>189</td>\n",
       "      <td>0.816485</td>\n",
       "    </tr>\n",
       "    <tr>\n",
       "      <th>5</th>\n",
       "      <td>January</td>\n",
       "      <td>6</td>\n",
       "      <td>Ivy</td>\n",
       "      <td>173</td>\n",
       "      <td>0.747365</td>\n",
       "    </tr>\n",
       "    <tr>\n",
       "      <th>6</th>\n",
       "      <td>January</td>\n",
       "      <td>7</td>\n",
       "      <td>Sophia</td>\n",
       "      <td>166</td>\n",
       "      <td>0.717125</td>\n",
       "    </tr>\n",
       "    <tr>\n",
       "      <th>7</th>\n",
       "      <td>January</td>\n",
       "      <td>8</td>\n",
       "      <td>Lily</td>\n",
       "      <td>161</td>\n",
       "      <td>0.695524</td>\n",
       "    </tr>\n",
       "    <tr>\n",
       "      <th>8</th>\n",
       "      <td>January</td>\n",
       "      <td>9</td>\n",
       "      <td>Florence</td>\n",
       "      <td>158</td>\n",
       "      <td>0.682564</td>\n",
       "    </tr>\n",
       "    <tr>\n",
       "      <th>9</th>\n",
       "      <td>January</td>\n",
       "      <td>10</td>\n",
       "      <td>Isabella</td>\n",
       "      <td>156</td>\n",
       "      <td>0.673924</td>\n",
       "    </tr>\n",
       "    <tr>\n",
       "      <th>11</th>\n",
       "      <td>February</td>\n",
       "      <td>1</td>\n",
       "      <td>Olivia</td>\n",
       "      <td>254</td>\n",
       "      <td>1.124391</td>\n",
       "    </tr>\n",
       "    <tr>\n",
       "      <th>12</th>\n",
       "      <td>February</td>\n",
       "      <td>2</td>\n",
       "      <td>Amelia</td>\n",
       "      <td>238</td>\n",
       "      <td>1.053564</td>\n",
       "    </tr>\n",
       "    <tr>\n",
       "      <th>13</th>\n",
       "      <td>February</td>\n",
       "      <td>3</td>\n",
       "      <td>Ava</td>\n",
       "      <td>185</td>\n",
       "      <td>0.818946</td>\n",
       "    </tr>\n",
       "    <tr>\n",
       "      <th>14</th>\n",
       "      <td>February</td>\n",
       "      <td>4</td>\n",
       "      <td>Isla</td>\n",
       "      <td>182</td>\n",
       "      <td>0.805666</td>\n",
       "    </tr>\n",
       "    <tr>\n",
       "      <th>15</th>\n",
       "      <td>February</td>\n",
       "      <td>5</td>\n",
       "      <td>Freya</td>\n",
       "      <td>172</td>\n",
       "      <td>0.761399</td>\n",
       "    </tr>\n",
       "    <tr>\n",
       "      <th>16</th>\n",
       "      <td>February</td>\n",
       "      <td>6</td>\n",
       "      <td>Mia</td>\n",
       "      <td>166</td>\n",
       "      <td>0.734838</td>\n",
       "    </tr>\n",
       "    <tr>\n",
       "      <th>17</th>\n",
       "      <td>February</td>\n",
       "      <td>7</td>\n",
       "      <td>Ivy</td>\n",
       "      <td>164</td>\n",
       "      <td>0.725985</td>\n",
       "    </tr>\n",
       "    <tr>\n",
       "      <th>18</th>\n",
       "      <td>February</td>\n",
       "      <td>8</td>\n",
       "      <td>Rosie</td>\n",
       "      <td>163</td>\n",
       "      <td>0.721558</td>\n",
       "    </tr>\n",
       "    <tr>\n",
       "      <th>19</th>\n",
       "      <td>February</td>\n",
       "      <td>9</td>\n",
       "      <td>Florence</td>\n",
       "      <td>162</td>\n",
       "      <td>0.717131</td>\n",
       "    </tr>\n",
       "    <tr>\n",
       "      <th>20</th>\n",
       "      <td>February</td>\n",
       "      <td>10</td>\n",
       "      <td>Isabella</td>\n",
       "      <td>158</td>\n",
       "      <td>0.699425</td>\n",
       "    </tr>\n",
       "  </tbody>\n",
       "</table>\n",
       "</div>"
      ],
      "text/plain": [
       "       Month Rank      Name  Count  Percentage\n",
       "0    January    1    Olivia    280    1.209608\n",
       "1    January    2    Amelia    223    0.963366\n",
       "2    January    3      Isla    212    0.915846\n",
       "3    January    4       Mia    192    0.829445\n",
       "4    January    5       Ava    189    0.816485\n",
       "5    January    6       Ivy    173    0.747365\n",
       "6    January    7    Sophia    166    0.717125\n",
       "7    January    8      Lily    161    0.695524\n",
       "8    January    9  Florence    158    0.682564\n",
       "9    January   10  Isabella    156    0.673924\n",
       "11  February    1    Olivia    254    1.124391\n",
       "12  February    2    Amelia    238    1.053564\n",
       "13  February    3       Ava    185    0.818946\n",
       "14  February    4      Isla    182    0.805666\n",
       "15  February    5     Freya    172    0.761399\n",
       "16  February    6       Mia    166    0.734838\n",
       "17  February    7       Ivy    164    0.725985\n",
       "18  February    8     Rosie    163    0.721558\n",
       "19  February    9  Florence    162    0.717131\n",
       "20  February   10  Isabella    158    0.699425"
      ]
     },
     "execution_count": 2,
     "metadata": {},
     "output_type": "execute_result"
    }
   ],
   "source": [
    "def get_perc(row):\n",
    "    month = row['Month']\n",
    "    total = girls_total_dict[month]\n",
    "    proportion = row['Count']/total\n",
    "    return proportion*100\n",
    "\n",
    "girls_data['Percentage'] = girls_data.apply(get_perc, axis=1)\n",
    "girls_data.head(20)"
   ]
  },
  {
   "cell_type": "code",
   "execution_count": 3,
   "id": "3e898c45",
   "metadata": {},
   "outputs": [
    {
     "name": "stdout",
     "output_type": "stream",
     "text": [
      "(18, 12)\n",
      "(18, 12)\n",
      "94\n"
     ]
    },
    {
     "data": {
      "text/html": [
       "<div>\n",
       "<style scoped>\n",
       "    .dataframe tbody tr th:only-of-type {\n",
       "        vertical-align: middle;\n",
       "    }\n",
       "\n",
       "    .dataframe tbody tr th {\n",
       "        vertical-align: top;\n",
       "    }\n",
       "\n",
       "    .dataframe thead th {\n",
       "        text-align: right;\n",
       "    }\n",
       "</style>\n",
       "<table border=\"1\" class=\"dataframe\">\n",
       "  <thead>\n",
       "    <tr style=\"text-align: right;\">\n",
       "      <th>Month</th>\n",
       "      <th>January</th>\n",
       "      <th>February</th>\n",
       "      <th>March</th>\n",
       "      <th>April</th>\n",
       "      <th>May</th>\n",
       "      <th>June</th>\n",
       "      <th>July</th>\n",
       "      <th>August</th>\n",
       "      <th>September</th>\n",
       "      <th>October</th>\n",
       "      <th>November</th>\n",
       "      <th>December</th>\n",
       "    </tr>\n",
       "    <tr>\n",
       "      <th>Name</th>\n",
       "      <th></th>\n",
       "      <th></th>\n",
       "      <th></th>\n",
       "      <th></th>\n",
       "      <th></th>\n",
       "      <th></th>\n",
       "      <th></th>\n",
       "      <th></th>\n",
       "      <th></th>\n",
       "      <th></th>\n",
       "      <th></th>\n",
       "      <th></th>\n",
       "    </tr>\n",
       "  </thead>\n",
       "  <tbody>\n",
       "    <tr>\n",
       "      <th>Olivia</th>\n",
       "      <td>1.209608</td>\n",
       "      <td>1.124391</td>\n",
       "      <td>1.127775</td>\n",
       "      <td>1.172434</td>\n",
       "      <td>1.229475</td>\n",
       "      <td>1.317964</td>\n",
       "      <td>1.359016</td>\n",
       "      <td>1.335540</td>\n",
       "      <td>1.307866</td>\n",
       "      <td>1.064302</td>\n",
       "      <td>1.136452</td>\n",
       "      <td>0.959616</td>\n",
       "    </tr>\n",
       "    <tr>\n",
       "      <th>Amelia</th>\n",
       "      <td>0.963366</td>\n",
       "      <td>1.053564</td>\n",
       "      <td>1.151271</td>\n",
       "      <td>1.086646</td>\n",
       "      <td>1.001201</td>\n",
       "      <td>1.022897</td>\n",
       "      <td>1.034915</td>\n",
       "      <td>0.902901</td>\n",
       "      <td>1.160084</td>\n",
       "      <td>1.045824</td>\n",
       "      <td>0.941854</td>\n",
       "      <td>1.091563</td>\n",
       "    </tr>\n",
       "    <tr>\n",
       "      <th>Isla</th>\n",
       "      <td>0.915846</td>\n",
       "      <td>0.805666</td>\n",
       "      <td>0.857579</td>\n",
       "      <td>0.861963</td>\n",
       "      <td>0.889067</td>\n",
       "      <td>0.853726</td>\n",
       "      <td>0.909694</td>\n",
       "      <td>0.925473</td>\n",
       "      <td>0.949496</td>\n",
       "      <td>0.923873</td>\n",
       "      <td>0.766716</td>\n",
       "      <td>0.891643</td>\n",
       "    </tr>\n",
       "    <tr>\n",
       "      <th>Ava</th>\n",
       "      <td>0.816485</td>\n",
       "      <td>0.818946</td>\n",
       "      <td>0.896738</td>\n",
       "      <td>0.849708</td>\n",
       "      <td>0.776932</td>\n",
       "      <td>0.885199</td>\n",
       "      <td>0.740277</td>\n",
       "      <td>0.853993</td>\n",
       "      <td>0.945801</td>\n",
       "      <td>0.894309</td>\n",
       "      <td>0.805636</td>\n",
       "      <td>0.851659</td>\n",
       "    </tr>\n",
       "    <tr>\n",
       "      <th>Ivy</th>\n",
       "      <td>0.747365</td>\n",
       "      <td>0.725985</td>\n",
       "      <td>0.685280</td>\n",
       "      <td>0.686303</td>\n",
       "      <td>0.800961</td>\n",
       "      <td>0.692423</td>\n",
       "      <td>0.714496</td>\n",
       "      <td>0.718558</td>\n",
       "      <td>0.801714</td>\n",
       "      <td>0.687361</td>\n",
       "      <td>0.700553</td>\n",
       "      <td>0.883647</td>\n",
       "    </tr>\n",
       "    <tr>\n",
       "      <th>Freya</th>\n",
       "      <td>NaN</td>\n",
       "      <td>0.761399</td>\n",
       "      <td>0.728355</td>\n",
       "      <td>0.686303</td>\n",
       "      <td>NaN</td>\n",
       "      <td>0.731765</td>\n",
       "      <td>0.736594</td>\n",
       "      <td>0.726083</td>\n",
       "      <td>0.746296</td>\n",
       "      <td>0.779749</td>\n",
       "      <td>0.704445</td>\n",
       "      <td>NaN</td>\n",
       "    </tr>\n",
       "    <tr>\n",
       "      <th>Lily</th>\n",
       "      <td>0.695524</td>\n",
       "      <td>NaN</td>\n",
       "      <td>0.747934</td>\n",
       "      <td>0.686303</td>\n",
       "      <td>0.732879</td>\n",
       "      <td>0.696357</td>\n",
       "      <td>0.747643</td>\n",
       "      <td>0.790038</td>\n",
       "      <td>0.709351</td>\n",
       "      <td>0.687361</td>\n",
       "      <td>0.716120</td>\n",
       "      <td>0.719712</td>\n",
       "    </tr>\n",
       "    <tr>\n",
       "      <th>Florence</th>\n",
       "      <td>0.682564</td>\n",
       "      <td>0.717131</td>\n",
       "      <td>NaN</td>\n",
       "      <td>NaN</td>\n",
       "      <td>0.784942</td>\n",
       "      <td>0.723896</td>\n",
       "      <td>NaN</td>\n",
       "      <td>0.729845</td>\n",
       "      <td>0.820187</td>\n",
       "      <td>0.761271</td>\n",
       "      <td>0.696661</td>\n",
       "      <td>0.743703</td>\n",
       "    </tr>\n",
       "    <tr>\n",
       "      <th>Mia</th>\n",
       "      <td>0.829445</td>\n",
       "      <td>0.734838</td>\n",
       "      <td>NaN</td>\n",
       "      <td>0.706728</td>\n",
       "      <td>NaN</td>\n",
       "      <td>0.719962</td>\n",
       "      <td>0.799204</td>\n",
       "      <td>NaN</td>\n",
       "      <td>0.798020</td>\n",
       "      <td>NaN</td>\n",
       "      <td>NaN</td>\n",
       "      <td>0.675730</td>\n",
       "    </tr>\n",
       "    <tr>\n",
       "      <th>Willow</th>\n",
       "      <td>NaN</td>\n",
       "      <td>NaN</td>\n",
       "      <td>0.716607</td>\n",
       "      <td>NaN</td>\n",
       "      <td>0.748899</td>\n",
       "      <td>NaN</td>\n",
       "      <td>NaN</td>\n",
       "      <td>NaN</td>\n",
       "      <td>0.709351</td>\n",
       "      <td>0.698448</td>\n",
       "      <td>NaN</td>\n",
       "      <td>0.683727</td>\n",
       "    </tr>\n",
       "    <tr>\n",
       "      <th>Rosie</th>\n",
       "      <td>NaN</td>\n",
       "      <td>0.721558</td>\n",
       "      <td>0.724439</td>\n",
       "      <td>0.768005</td>\n",
       "      <td>NaN</td>\n",
       "      <td>NaN</td>\n",
       "      <td>0.681349</td>\n",
       "      <td>NaN</td>\n",
       "      <td>NaN</td>\n",
       "      <td>0.735403</td>\n",
       "      <td>NaN</td>\n",
       "      <td>NaN</td>\n",
       "    </tr>\n",
       "    <tr>\n",
       "      <th>Sophia</th>\n",
       "      <td>0.717125</td>\n",
       "      <td>NaN</td>\n",
       "      <td>NaN</td>\n",
       "      <td>NaN</td>\n",
       "      <td>0.772928</td>\n",
       "      <td>NaN</td>\n",
       "      <td>NaN</td>\n",
       "      <td>NaN</td>\n",
       "      <td>NaN</td>\n",
       "      <td>NaN</td>\n",
       "      <td>NaN</td>\n",
       "      <td>0.675730</td>\n",
       "    </tr>\n",
       "    <tr>\n",
       "      <th>Isabella</th>\n",
       "      <td>0.673924</td>\n",
       "      <td>0.699425</td>\n",
       "      <td>0.704860</td>\n",
       "      <td>NaN</td>\n",
       "      <td>0.704846</td>\n",
       "      <td>NaN</td>\n",
       "      <td>NaN</td>\n",
       "      <td>0.711034</td>\n",
       "      <td>NaN</td>\n",
       "      <td>0.702143</td>\n",
       "      <td>NaN</td>\n",
       "      <td>NaN</td>\n",
       "    </tr>\n",
       "    <tr>\n",
       "      <th>Grace</th>\n",
       "      <td>NaN</td>\n",
       "      <td>NaN</td>\n",
       "      <td>NaN</td>\n",
       "      <td>NaN</td>\n",
       "      <td>NaN</td>\n",
       "      <td>NaN</td>\n",
       "      <td>0.696081</td>\n",
       "      <td>0.695986</td>\n",
       "      <td>NaN</td>\n",
       "      <td>NaN</td>\n",
       "      <td>NaN</td>\n",
       "      <td>NaN</td>\n",
       "    </tr>\n",
       "    <tr>\n",
       "      <th>Daisy</th>\n",
       "      <td>NaN</td>\n",
       "      <td>NaN</td>\n",
       "      <td>NaN</td>\n",
       "      <td>0.714898</td>\n",
       "      <td>NaN</td>\n",
       "      <td>0.716028</td>\n",
       "      <td>NaN</td>\n",
       "      <td>NaN</td>\n",
       "      <td>NaN</td>\n",
       "      <td>NaN</td>\n",
       "      <td>NaN</td>\n",
       "      <td>NaN</td>\n",
       "    </tr>\n",
       "    <tr>\n",
       "      <th>Sienna</th>\n",
       "      <td>NaN</td>\n",
       "      <td>NaN</td>\n",
       "      <td>NaN</td>\n",
       "      <td>NaN</td>\n",
       "      <td>NaN</td>\n",
       "      <td>NaN</td>\n",
       "      <td>NaN</td>\n",
       "      <td>NaN</td>\n",
       "      <td>NaN</td>\n",
       "      <td>NaN</td>\n",
       "      <td>0.696661</td>\n",
       "      <td>NaN</td>\n",
       "    </tr>\n",
       "    <tr>\n",
       "      <th>Poppy</th>\n",
       "      <td>NaN</td>\n",
       "      <td>NaN</td>\n",
       "      <td>NaN</td>\n",
       "      <td>NaN</td>\n",
       "      <td>NaN</td>\n",
       "      <td>NaN</td>\n",
       "      <td>NaN</td>\n",
       "      <td>NaN</td>\n",
       "      <td>NaN</td>\n",
       "      <td>NaN</td>\n",
       "      <td>0.758932</td>\n",
       "      <td>NaN</td>\n",
       "    </tr>\n",
       "    <tr>\n",
       "      <th>Emily</th>\n",
       "      <td>NaN</td>\n",
       "      <td>NaN</td>\n",
       "      <td>NaN</td>\n",
       "      <td>0.698558</td>\n",
       "      <td>NaN</td>\n",
       "      <td>NaN</td>\n",
       "      <td>NaN</td>\n",
       "      <td>NaN</td>\n",
       "      <td>NaN</td>\n",
       "      <td>NaN</td>\n",
       "      <td>NaN</td>\n",
       "      <td>NaN</td>\n",
       "    </tr>\n",
       "  </tbody>\n",
       "</table>\n",
       "</div>"
      ],
      "text/plain": [
       "Month      January  February     March     April       May      June  \\\n",
       "Name                                                                   \n",
       "Olivia    1.209608  1.124391  1.127775  1.172434  1.229475  1.317964   \n",
       "Amelia    0.963366  1.053564  1.151271  1.086646  1.001201  1.022897   \n",
       "Isla      0.915846  0.805666  0.857579  0.861963  0.889067  0.853726   \n",
       "Ava       0.816485  0.818946  0.896738  0.849708  0.776932  0.885199   \n",
       "Ivy       0.747365  0.725985  0.685280  0.686303  0.800961  0.692423   \n",
       "Freya          NaN  0.761399  0.728355  0.686303       NaN  0.731765   \n",
       "Lily      0.695524       NaN  0.747934  0.686303  0.732879  0.696357   \n",
       "Florence  0.682564  0.717131       NaN       NaN  0.784942  0.723896   \n",
       "Mia       0.829445  0.734838       NaN  0.706728       NaN  0.719962   \n",
       "Willow         NaN       NaN  0.716607       NaN  0.748899       NaN   \n",
       "Rosie          NaN  0.721558  0.724439  0.768005       NaN       NaN   \n",
       "Sophia    0.717125       NaN       NaN       NaN  0.772928       NaN   \n",
       "Isabella  0.673924  0.699425  0.704860       NaN  0.704846       NaN   \n",
       "Grace          NaN       NaN       NaN       NaN       NaN       NaN   \n",
       "Daisy          NaN       NaN       NaN  0.714898       NaN  0.716028   \n",
       "Sienna         NaN       NaN       NaN       NaN       NaN       NaN   \n",
       "Poppy          NaN       NaN       NaN       NaN       NaN       NaN   \n",
       "Emily          NaN       NaN       NaN  0.698558       NaN       NaN   \n",
       "\n",
       "Month         July    August  September   October  November  December  \n",
       "Name                                                                   \n",
       "Olivia    1.359016  1.335540   1.307866  1.064302  1.136452  0.959616  \n",
       "Amelia    1.034915  0.902901   1.160084  1.045824  0.941854  1.091563  \n",
       "Isla      0.909694  0.925473   0.949496  0.923873  0.766716  0.891643  \n",
       "Ava       0.740277  0.853993   0.945801  0.894309  0.805636  0.851659  \n",
       "Ivy       0.714496  0.718558   0.801714  0.687361  0.700553  0.883647  \n",
       "Freya     0.736594  0.726083   0.746296  0.779749  0.704445       NaN  \n",
       "Lily      0.747643  0.790038   0.709351  0.687361  0.716120  0.719712  \n",
       "Florence       NaN  0.729845   0.820187  0.761271  0.696661  0.743703  \n",
       "Mia       0.799204       NaN   0.798020       NaN       NaN  0.675730  \n",
       "Willow         NaN       NaN   0.709351  0.698448       NaN  0.683727  \n",
       "Rosie     0.681349       NaN        NaN  0.735403       NaN       NaN  \n",
       "Sophia         NaN       NaN        NaN       NaN       NaN  0.675730  \n",
       "Isabella       NaN  0.711034        NaN  0.702143       NaN       NaN  \n",
       "Grace     0.696081  0.695986        NaN       NaN       NaN       NaN  \n",
       "Daisy          NaN       NaN        NaN       NaN       NaN       NaN  \n",
       "Sienna         NaN       NaN        NaN       NaN  0.696661       NaN  \n",
       "Poppy          NaN       NaN        NaN       NaN  0.758932       NaN  \n",
       "Emily          NaN       NaN        NaN       NaN       NaN       NaN  "
      ]
     },
     "execution_count": 3,
     "metadata": {},
     "output_type": "execute_result"
    }
   ],
   "source": [
    "matrix = girls_data.pivot(index='Name', columns='Month', values='Percentage')\n",
    "\n",
    "# Reorder columns\n",
    "months = girls_data['Month'].unique()\n",
    "matrix = matrix[months]\n",
    "\n",
    "print(matrix.shape)\n",
    "\n",
    "# Reorder rows\n",
    "names_in_order = ['Olivia', 'Amelia', 'Isla', 'Ava',  'Ivy', 'Freya', 'Lily', 'Florence', 'Mia', 'Willow',  'Rosie', 'Sophia', 'Isabella', 'Grace', 'Daisy', 'Sienna', 'Poppy', 'Emily']\n",
    "matrix = matrix.reindex(names_in_order)\n",
    "print(matrix.shape)\n",
    "print(matrix.isna().sum().sum())\n",
    "matrix"
   ]
  },
  {
   "cell_type": "code",
   "execution_count": 4,
   "id": "7257bed2",
   "metadata": {},
   "outputs": [
    {
     "data": {
      "image/png": "[encoded data removed]",
      "text/plain": [
       "<Figure size 1200x1000 with 2 Axes>"
      ]
     },
     "metadata": {},
     "output_type": "display_data"
    }
   ],
   "source": [
    "sns.set(rc={'figure.figsize':(12,10)})\n",
    "ax = sns.heatmap(matrix, linewidths=1, cbar_kws={'label': 'Percentage of girls born'}, square=True)\n",
    "\n",
    "ax.set(xlabel=\"\", ylabel=\"\")\n",
    "ax.xaxis.tick_top()\n",
    "plt.xticks(rotation=90)\n",
    "ax.tick_params(left=False, top=False)\n",
    "ax.grid(False)\n",
    "\n",
    "plt.show()"
   ]
  },
  {
   "cell_type": "code",
   "execution_count": 7,
   "id": "d8ffe359",
   "metadata": {},
   "outputs": [
    {
     "data": {
      "application/vnd.plotly.v1+json": {
       "config": {
        "plotlyServerURL": "https://plot.ly"
       },
       "data": [
        {
         "hovertemplate": "Name=Olivia<br>Percentage=%{r}<br>Month=%{theta}<extra></extra>",
         "legendgroup": "Olivia",
         "marker": {
          "color": "#636efa",
          "pattern": {
           "shape": ""
          }
         },
         "name": "Olivia",
         "r": [
          1.2096077414895454,
          1.1243913235945109,
          1.1277753847358736,
          1.1724335144409495,
          1.2294753704445334,
          1.3179636478086394,
          1.359015910430171,
          1.33554042361085,
          1.3078656666789816,
          1.06430155210643,
          1.1364520899820971,
          0.9596161535385845
         ],
         "showlegend": true,
         "subplot": "polar",
         "theta": [
          "January",
          "February",
          "March",
          "April",
          "May",
          "June",
          "July",
          "August",
          "September",
          "October",
          "November",
          "December"
         ],
         "type": "barpolar"
        },
        {
         "hovertemplate": "Name=Amelia<br>Percentage=%{r}<br>Month=%{theta}<extra></extra>",
         "legendgroup": "Amelia",
         "marker": {
          "color": "#EF553B",
          "pattern": {
           "shape": ""
          }
         },
         "name": "Amelia",
         "r": [
          0.9633661655434596,
          1.0535635236830456,
          1.1512707052512041,
          1.0866456963111237,
          1.001201441730076,
          1.0228971594932725,
          1.0349145550972305,
          0.9029005680749408,
          1.1600842354158198,
          1.0458240946045825,
          0.9418541293687241,
          1.09156337465014
         ],
         "showlegend": true,
         "subplot": "polar",
         "theta": [
          "January",
          "February",
          "March",
          "April",
          "May",
          "June",
          "July",
          "August",
          "September",
          "October",
          "November",
          "December"
         ],
         "type": "barpolar"
        },
        {
         "hovertemplate": "Name=Isla<br>Percentage=%{r}<br>Month=%{theta}<extra></extra>",
         "legendgroup": "Isla",
         "marker": {
          "color": "#00cc96",
          "pattern": {
           "shape": ""
          }
         },
         "name": "Isla",
         "r": [
          0.9158458614135131,
          0.8056662239929173,
          0.8575791988095703,
          0.861963315494914,
          0.8890668802563075,
          0.8537257061924621,
          0.9096935769004124,
          0.9254730822768142,
          0.9494956958658145,
          0.9238728750923874,
          0.7667159648166887,
          0.8916433426629348
         ],
         "showlegend": true,
         "subplot": "polar",
         "theta": [
          "January",
          "February",
          "March",
          "April",
          "May",
          "June",
          "July",
          "August",
          "September",
          "October",
          "November",
          "December"
         ],
         "type": "barpolar"
        },
        {
         "hovertemplate": "Name=Mia<br>Percentage=%{r}<br>Month=%{theta}<extra></extra>",
         "legendgroup": "Mia",
         "marker": {
          "color": "#ab63fa",
          "pattern": {
           "shape": ""
          }
         },
         "name": "Mia",
         "r": [
          0.8294453084499741,
          0.734838424081452,
          0.7067282160218963,
          0.7199622314894957,
          0.7992044784914556,
          0.7980197288210736,
          0.6757297081167534
         ],
         "showlegend": true,
         "subplot": "polar",
         "theta": [
          "January",
          "February",
          "April",
          "June",
          "July",
          "September",
          "December"
         ],
         "type": "barpolar"
        },
        {
         "hovertemplate": "Name=Ava<br>Percentage=%{r}<br>Month=%{theta}<extra></extra>",
         "legendgroup": "Ava",
         "marker": {
          "color": "#FFA15A",
          "pattern": {
           "shape": ""
          }
         },
         "name": "Ava",
         "r": [
          0.8164852255054432,
          0.8189464364763169,
          0.8967380663351217,
          0.8497079129049389,
          0.7769323187825391,
          0.8851994649461011,
          0.7402769593400118,
          0.8539934539708814,
          0.9458011600842354,
          0.894308943089431,
          0.8056355569393633,
          0.8516593362654938
         ],
         "showlegend": true,
         "subplot": "polar",
         "theta": [
          "January",
          "February",
          "March",
          "April",
          "May",
          "June",
          "July",
          "August",
          "September",
          "October",
          "November",
          "December"
         ],
         "type": "barpolar"
        },
        {
         "hovertemplate": "Name=Ivy<br>Percentage=%{r}<br>Month=%{theta}<extra></extra>",
         "legendgroup": "Ivy",
         "marker": {
          "color": "#19d3f3",
          "pattern": {
           "shape": ""
          }
         },
         "name": "Ivy",
         "r": [
          0.7473647831346121,
          0.7259849490925188,
          0.6852801816971453,
          0.6863025450386046,
          0.8009611533840608,
          0.6924226925800614,
          0.7144961697112552,
          0.7185583687596403,
          0.8017142646026527,
          0.6873614190687362,
          0.700552658208142,
          0.8836465413834467
         ],
         "showlegend": true,
         "subplot": "polar",
         "theta": [
          "January",
          "February",
          "March",
          "April",
          "May",
          "June",
          "July",
          "August",
          "September",
          "October",
          "November",
          "December"
         ],
         "type": "barpolar"
        },
        {
         "hovertemplate": "Name=Sophia<br>Percentage=%{r}<br>Month=%{theta}<extra></extra>",
         "legendgroup": "Sophia",
         "marker": {
          "color": "#FF6692",
          "pattern": {
           "shape": ""
          }
         },
         "name": "Sophia",
         "r": [
          0.7171245895973735,
          0.7729275130156188,
          0.6757297081167534
         ],
         "showlegend": true,
         "subplot": "polar",
         "theta": [
          "January",
          "May",
          "December"
         ],
         "type": "barpolar"
        },
        {
         "hovertemplate": "Name=Lily<br>Percentage=%{r}<br>Month=%{theta}<extra></extra>",
         "legendgroup": "Lily",
         "marker": {
          "color": "#B6E880",
          "pattern": {
           "shape": ""
          }
         },
         "name": "Lily",
         "r": [
          0.6955244513564887,
          0.7479343697380272,
          0.6863025450386046,
          0.7328794553464157,
          0.6963569124242662,
          0.7476428992339422,
          0.7900379970655732,
          0.7093508700631765,
          0.6873614190687362,
          0.7161204950572119,
          0.7197121151539384
         ],
         "showlegend": true,
         "subplot": "polar",
         "theta": [
          "January",
          "March",
          "April",
          "May",
          "June",
          "July",
          "August",
          "September",
          "October",
          "November",
          "December"
         ],
         "type": "barpolar"
        },
        {
         "hovertemplate": "Name=Florence<br>Percentage=%{r}<br>Month=%{theta}<extra></extra>",
         "legendgroup": "Florence",
         "marker": {
          "color": "#FF97FF",
          "pattern": {
           "shape": ""
          }
         },
         "name": "Florence",
         "r": [
          0.6825643684119578,
          0.7171314741035857,
          0.7849419303163796,
          0.7238964513337005,
          0.7298446258605772,
          0.8201869435105478,
          0.7612712490761272,
          0.6966606989958746,
          0.743702518992403
         ],
         "showlegend": true,
         "subplot": "polar",
         "theta": [
          "January",
          "February",
          "May",
          "June",
          "August",
          "September",
          "October",
          "November",
          "December"
         ],
         "type": "barpolar"
        },
        {
         "hovertemplate": "Name=Isabella<br>Percentage=%{r}<br>Month=%{theta}<extra></extra>",
         "legendgroup": "Isabella",
         "marker": {
          "color": "#FECB52",
          "pattern": {
           "shape": ""
          }
         },
         "name": "Isabella",
         "r": [
          0.673924313115604,
          0.6994245241257193,
          0.7048596154599209,
          0.7048458149779736,
          0.7110341973590159,
          0.7021433850702143
         ],
         "showlegend": true,
         "subplot": "polar",
         "theta": [
          "January",
          "February",
          "March",
          "May",
          "August",
          "October"
         ],
         "type": "barpolar"
        },
        {
         "hovertemplate": "Name=Freya<br>Percentage=%{r}<br>Month=%{theta}<extra></extra>",
         "legendgroup": "Freya",
         "marker": {
          "color": "#636efa",
          "pattern": {
           "shape": ""
          }
         },
         "name": "Freya",
         "r": [
          0.7613988490482514,
          0.7283549359752516,
          0.6863025450386046,
          0.7317648910221103,
          0.7365939893930465,
          0.7260825401602649,
          0.746296227878967,
          0.7797487065779749,
          0.7044446174204094
         ],
         "showlegend": true,
         "subplot": "polar",
         "theta": [
          "February",
          "March",
          "April",
          "June",
          "July",
          "August",
          "September",
          "October",
          "November"
         ],
         "type": "barpolar"
        },
        {
         "hovertemplate": "Name=Rosie<br>Percentage=%{r}<br>Month=%{theta}<extra></extra>",
         "legendgroup": "Rosie",
         "marker": {
          "color": "#EF553B",
          "pattern": {
           "shape": ""
          }
         },
         "name": "Rosie",
         "r": [
          0.7215582115980522,
          0.7244390492226965,
          0.7680052289717717,
          0.681349440188568,
          0.7354028085735402
         ],
         "showlegend": true,
         "subplot": "polar",
         "theta": [
          "February",
          "March",
          "April",
          "July",
          "October"
         ],
         "type": "barpolar"
        },
        {
         "hovertemplate": "Name=Willow<br>Percentage=%{r}<br>Month=%{theta}<extra></extra>",
         "legendgroup": "Willow",
         "marker": {
          "color": "#00cc96",
          "pattern": {
           "shape": ""
          }
         },
         "name": "Willow",
         "r": [
          0.7166072757175863,
          0.7488986784140969,
          0.7093508700631765,
          0.6984478935698448,
          0.6837265093962416
         ],
         "showlegend": true,
         "subplot": "polar",
         "theta": [
          "March",
          "May",
          "September",
          "October",
          "December"
         ],
         "type": "barpolar"
        },
        {
         "hovertemplate": "Name=Daisy<br>Percentage=%{r}<br>Month=%{theta}<extra></extra>",
         "legendgroup": "Daisy",
         "marker": {
          "color": "#ab63fa",
          "pattern": {
           "shape": ""
          }
         },
         "name": "Daisy",
         "r": [
          0.7148984844152131,
          0.7160280116452907
         ],
         "showlegend": true,
         "subplot": "polar",
         "theta": [
          "April",
          "June"
         ],
         "type": "barpolar"
        },
        {
         "hovertemplate": "Name=Emily<br>Percentage=%{r}<br>Month=%{theta}<extra></extra>",
         "legendgroup": "Emily",
         "marker": {
          "color": "#FFA15A",
          "pattern": {
           "shape": ""
          }
         },
         "name": "Emily",
         "r": [
          0.6985579476285796
         ],
         "showlegend": true,
         "subplot": "polar",
         "theta": [
          "April"
         ],
         "type": "barpolar"
        },
        {
         "hovertemplate": "Name=Grace<br>Percentage=%{r}<br>Month=%{theta}<extra></extra>",
         "legendgroup": "Grace",
         "marker": {
          "color": "#19d3f3",
          "pattern": {
           "shape": ""
          }
         },
         "name": "Grace",
         "r": [
          0.696081319976429,
          0.6959858545577668
         ],
         "showlegend": true,
         "subplot": "polar",
         "theta": [
          "July",
          "August"
         ],
         "type": "barpolar"
        },
        {
         "hovertemplate": "Name=Poppy<br>Percentage=%{r}<br>Month=%{theta}<extra></extra>",
         "legendgroup": "Poppy",
         "marker": {
          "color": "#FF6692",
          "pattern": {
           "shape": ""
          }
         },
         "name": "Poppy",
         "r": [
          0.7589320463921538
         ],
         "showlegend": true,
         "subplot": "polar",
         "theta": [
          "November"
         ],
         "type": "barpolar"
        },
        {
         "hovertemplate": "Name=Sienna<br>Percentage=%{r}<br>Month=%{theta}<extra></extra>",
         "legendgroup": "Sienna",
         "marker": {
          "color": "#B6E880",
          "pattern": {
           "shape": ""
          }
         },
         "name": "Sienna",
         "r": [
          0.6966606989958746
         ],
         "showlegend": true,
         "subplot": "polar",
         "theta": [
          "November"
         ],
         "type": "barpolar"
        }
       ],
       "layout": {
        "barmode": "relative",
        "legend": {
         "title": {
          "text": "Name"
         },
         "tracegroupgap": 0
        },
        "margin": {
         "t": 60
        },
        "polar": {
         "angularaxis": {
          "direction": "clockwise",
          "rotation": 90
         },
         "domain": {
          "x": [
           0,
           1
          ],
          "y": [
           0,
           1
          ]
         }
        },
        "template": {
         "data": {
          "bar": [
           {
            "error_x": {
             "color": "#2a3f5f"
            },
            "error_y": {
             "color": "#2a3f5f"
            },
            "marker": {
             "line": {
              "color": "#E5ECF6",
              "width": 0.5
             },
             "pattern": {
              "fillmode": "overlay",
              "size": 10,
              "solidity": 0.2
             }
            },
            "type": "bar"
           }
          ],
          "barpolar": [
           {
            "marker": {
             "line": {
              "color": "#E5ECF6",
              "width": 0.5
             },
             "pattern": {
              "fillmode": "overlay",
              "size": 10,
              "solidity": 0.2
             }
            },
            "type": "barpolar"
           }
          ],
          "carpet": [
           {
            "aaxis": {
             "endlinecolor": "#2a3f5f",
             "gridcolor": "white",
             "linecolor": "white",
             "minorgridcolor": "white",
             "startlinecolor": "#2a3f5f"
            },
            "baxis": {
             "endlinecolor": "#2a3f5f",
             "gridcolor": "white",
             "linecolor": "white",
             "minorgridcolor": "white",
             "startlinecolor": "#2a3f5f"
            },
            "type": "carpet"
           }
          ],
          "choropleth": [
           {
            "colorbar": {
             "outlinewidth": 0,
             "ticks": ""
            },
            "type": "choropleth"
           }
          ],
          "contour": [
           {
            "colorbar": {
             "outlinewidth": 0,
             "ticks": ""
            },
            "colorscale": [
             [
              0,
              "#0d0887"
             ],
             [
              0.1111111111111111,
              "#46039f"
             ],
             [
              0.2222222222222222,
              "#7201a8"
             ],
             [
              0.3333333333333333,
              "#9c179e"
             ],
             [
              0.4444444444444444,
              "#bd3786"
             ],
             [
              0.5555555555555556,
              "#d8576b"
             ],
             [
              0.6666666666666666,
              "#ed7953"
             ],
             [
              0.7777777777777778,
              "#fb9f3a"
             ],
             [
              0.8888888888888888,
              "#fdca26"
             ],
             [
              1,
              "#f0f921"
             ]
            ],
            "type": "contour"
           }
          ],
          "contourcarpet": [
           {
            "colorbar": {
             "outlinewidth": 0,
             "ticks": ""
            },
            "type": "contourcarpet"
           }
          ],
          "heatmap": [
           {
            "colorbar": {
             "outlinewidth": 0,
             "ticks": ""
            },
            "colorscale": [
             [
              0,
              "#0d0887"
             ],
             [
              0.1111111111111111,
              "#46039f"
             ],
             [
              0.2222222222222222,
              "#7201a8"
             ],
             [
              0.3333333333333333,
              "#9c179e"
             ],
             [
              0.4444444444444444,
              "#bd3786"
             ],
             [
              0.5555555555555556,
              "#d8576b"
             ],
             [
              0.6666666666666666,
              "#ed7953"
             ],
             [
              0.7777777777777778,
              "#fb9f3a"
             ],
             [
              0.8888888888888888,
              "#fdca26"
             ],
             [
              1,
              "#f0f921"
             ]
            ],
            "type": "heatmap"
           }
          ],
          "heatmapgl": [
           {
            "colorbar": {
             "outlinewidth": 0,
             "ticks": ""
            },
            "colorscale": [
             [
              0,
              "#0d0887"
             ],
             [
              0.1111111111111111,
              "#46039f"
             ],
             [
              0.2222222222222222,
              "#7201a8"
             ],
             [
              0.3333333333333333,
              "#9c179e"
             ],
             [
              0.4444444444444444,
              "#bd3786"
             ],
             [
              0.5555555555555556,
              "#d8576b"
             ],
             [
              0.6666666666666666,
              "#ed7953"
             ],
             [
              0.7777777777777778,
              "#fb9f3a"
             ],
             [
              0.8888888888888888,
              "#fdca26"
             ],
             [
              1,
              "#f0f921"
             ]
            ],
            "type": "heatmapgl"
           }
          ],
          "histogram": [
           {
            "marker": {
             "pattern": {
              "fillmode": "overlay",
              "size": 10,
              "solidity": 0.2
             }
            },
            "type": "histogram"
           }
          ],
          "histogram2d": [
           {
            "colorbar": {
             "outlinewidth": 0,
             "ticks": ""
            },
            "colorscale": [
             [
              0,
              "#0d0887"
             ],
             [
              0.1111111111111111,
              "#46039f"
             ],
             [
              0.2222222222222222,
              "#7201a8"
             ],
             [
              0.3333333333333333,
              "#9c179e"
             ],
             [
              0.4444444444444444,
              "#bd3786"
             ],
             [
              0.5555555555555556,
              "#d8576b"
             ],
             [
              0.6666666666666666,
              "#ed7953"
             ],
             [
              0.7777777777777778,
              "#fb9f3a"
             ],
             [
              0.8888888888888888,
              "#fdca26"
             ],
             [
              1,
              "#f0f921"
             ]
            ],
            "type": "histogram2d"
           }
          ],
          "histogram2dcontour": [
           {
            "colorbar": {
             "outlinewidth": 0,
             "ticks": ""
            },
            "colorscale": [
             [
              0,
              "#0d0887"
             ],
             [
              0.1111111111111111,
              "#46039f"
             ],
             [
              0.2222222222222222,
              "#7201a8"
             ],
             [
              0.3333333333333333,
              "#9c179e"
             ],
             [
              0.4444444444444444,
              "#bd3786"
             ],
             [
              0.5555555555555556,
              "#d8576b"
             ],
             [
              0.6666666666666666,
              "#ed7953"
             ],
             [
              0.7777777777777778,
              "#fb9f3a"
             ],
             [
              0.8888888888888888,
              "#fdca26"
             ],
             [
              1,
              "#f0f921"
             ]
            ],
            "type": "histogram2dcontour"
           }
          ],
          "mesh3d": [
           {
            "colorbar": {
             "outlinewidth": 0,
             "ticks": ""
            },
            "type": "mesh3d"
           }
          ],
          "parcoords": [
           {
            "line": {
             "colorbar": {
              "outlinewidth": 0,
              "ticks": ""
             }
            },
            "type": "parcoords"
           }
          ],
          "pie": [
           {
            "automargin": true,
            "type": "pie"
           }
          ],
          "scatter": [
           {
            "fillpattern": {
             "fillmode": "overlay",
             "size": 10,
             "solidity": 0.2
            },
            "type": "scatter"
           }
          ],
          "scatter3d": [
           {
            "line": {
             "colorbar": {
              "outlinewidth": 0,
              "ticks": ""
             }
            },
            "marker": {
             "colorbar": {
              "outlinewidth": 0,
              "ticks": ""
             }
            },
            "type": "scatter3d"
           }
          ],
          "scattercarpet": [
           {
            "marker": {
             "colorbar": {
              "outlinewidth": 0,
              "ticks": ""
             }
            },
            "type": "scattercarpet"
           }
          ],
          "scattergeo": [
           {
            "marker": {
             "colorbar": {
              "outlinewidth": 0,
              "ticks": ""
             }
            },
            "type": "scattergeo"
           }
          ],
          "scattergl": [
           {
            "marker": {
             "colorbar": {
              "outlinewidth": 0,
              "ticks": ""
             }
            },
            "type": "scattergl"
           }
          ],
          "scattermapbox": [
           {
            "marker": {
             "colorbar": {
              "outlinewidth": 0,
              "ticks": ""
             }
            },
            "type": "scattermapbox"
           }
          ],
          "scatterpolar": [
           {
            "marker": {
             "colorbar": {
              "outlinewidth": 0,
              "ticks": ""
             }
            },
            "type": "scatterpolar"
           }
          ],
          "scatterpolargl": [
           {
            "marker": {
             "colorbar": {
              "outlinewidth": 0,
              "ticks": ""
             }
            },
            "type": "scatterpolargl"
           }
          ],
          "scatterternary": [
           {
            "marker": {
             "colorbar": {
              "outlinewidth": 0,
              "ticks": ""
             }
            },
            "type": "scatterternary"
           }
          ],
          "surface": [
           {
            "colorbar": {
             "outlinewidth": 0,
             "ticks": ""
            },
            "colorscale": [
             [
              0,
              "#0d0887"
             ],
             [
              0.1111111111111111,
              "#46039f"
             ],
             [
              0.2222222222222222,
              "#7201a8"
             ],
             [
              0.3333333333333333,
              "#9c179e"
             ],
             [
              0.4444444444444444,
              "#bd3786"
             ],
             [
              0.5555555555555556,
              "#d8576b"
             ],
             [
              0.6666666666666666,
              "#ed7953"
             ],
             [
              0.7777777777777778,
              "#fb9f3a"
             ],
             [
              0.8888888888888888,
              "#fdca26"
             ],
             [
              1,
              "#f0f921"
             ]
            ],
            "type": "surface"
           }
          ],
          "table": [
           {
            "cells": {
             "fill": {
              "color": "#EBF0F8"
             },
             "line": {
              "color": "white"
             }
            },
            "header": {
             "fill": {
              "color": "#C8D4E3"
             },
             "line": {
              "color": "white"
             }
            },
            "type": "table"
           }
          ]
         },
         "layout": {
          "annotationdefaults": {
           "arrowcolor": "#2a3f5f",
           "arrowhead": 0,
           "arrowwidth": 1
          },
          "autotypenumbers": "strict",
          "coloraxis": {
           "colorbar": {
            "outlinewidth": 0,
            "ticks": ""
           }
          },
          "colorscale": {
           "diverging": [
            [
             0,
             "#8e0152"
            ],
            [
             0.1,
             "#c51b7d"
            ],
            [
             0.2,
             "#de77ae"
            ],
            [
             0.3,
             "#f1b6da"
            ],
            [
             0.4,
             "#fde0ef"
            ],
            [
             0.5,
             "#f7f7f7"
            ],
            [
             0.6,
             "#e6f5d0"
            ],
            [
             0.7,
             "#b8e186"
            ],
            [
             0.8,
             "#7fbc41"
            ],
            [
             0.9,
             "#4d9221"
            ],
            [
             1,
             "#276419"
            ]
           ],
           "sequential": [
            [
             0,
             "#0d0887"
            ],
            [
             0.1111111111111111,
             "#46039f"
            ],
            [
             0.2222222222222222,
             "#7201a8"
            ],
            [
             0.3333333333333333,
             "#9c179e"
            ],
            [
             0.4444444444444444,
             "#bd3786"
            ],
            [
             0.5555555555555556,
             "#d8576b"
            ],
            [
             0.6666666666666666,
             "#ed7953"
            ],
            [
             0.7777777777777778,
             "#fb9f3a"
            ],
            [
             0.8888888888888888,
             "#fdca26"
            ],
            [
             1,
             "#f0f921"
            ]
           ],
           "sequentialminus": [
            [
             0,
             "#0d0887"
            ],
            [
             0.1111111111111111,
             "#46039f"
            ],
            [
             0.2222222222222222,
             "#7201a8"
            ],
            [
             0.3333333333333333,
             "#9c179e"
            ],
            [
             0.4444444444444444,
             "#bd3786"
            ],
            [
             0.5555555555555556,
             "#d8576b"
            ],
            [
             0.6666666666666666,
             "#ed7953"
            ],
            [
             0.7777777777777778,
             "#fb9f3a"
            ],
            [
             0.8888888888888888,
             "#fdca26"
            ],
            [
             1,
             "#f0f921"
            ]
           ]
          },
          "colorway": [
           "#636efa",
           "#EF553B",
           "#00cc96",
           "#ab63fa",
           "#FFA15A",
           "#19d3f3",
           "#FF6692",
           "#B6E880",
           "#FF97FF",
           "#FECB52"
          ],
          "font": {
           "color": "#2a3f5f"
          },
          "geo": {
           "bgcolor": "white",
           "lakecolor": "white",
           "landcolor": "#E5ECF6",
           "showlakes": true,
           "showland": true,
           "subunitcolor": "white"
          },
          "hoverlabel": {
           "align": "left"
          },
          "hovermode": "closest",
          "mapbox": {
           "style": "light"
          },
          "paper_bgcolor": "white",
          "plot_bgcolor": "#E5ECF6",
          "polar": {
           "angularaxis": {
            "gridcolor": "white",
            "linecolor": "white",
            "ticks": ""
           },
           "bgcolor": "#E5ECF6",
           "radialaxis": {
            "gridcolor": "white",
            "linecolor": "white",
            "ticks": ""
           }
          },
          "scene": {
           "xaxis": {
            "backgroundcolor": "#E5ECF6",
            "gridcolor": "white",
            "gridwidth": 2,
            "linecolor": "white",
            "showbackground": true,
            "ticks": "",
            "zerolinecolor": "white"
           },
           "yaxis": {
            "backgroundcolor": "#E5ECF6",
            "gridcolor": "white",
            "gridwidth": 2,
            "linecolor": "white",
            "showbackground": true,
            "ticks": "",
            "zerolinecolor": "white"
           },
           "zaxis": {
            "backgroundcolor": "#E5ECF6",
            "gridcolor": "white",
            "gridwidth": 2,
            "linecolor": "white",
            "showbackground": true,
            "ticks": "",
            "zerolinecolor": "white"
           }
          },
          "shapedefaults": {
           "line": {
            "color": "#2a3f5f"
           }
          },
          "ternary": {
           "aaxis": {
            "gridcolor": "white",
            "linecolor": "white",
            "ticks": ""
           },
           "baxis": {
            "gridcolor": "white",
            "linecolor": "white",
            "ticks": ""
           },
           "bgcolor": "#E5ECF6",
           "caxis": {
            "gridcolor": "white",
            "linecolor": "white",
            "ticks": ""
           }
          },
          "title": {
           "x": 0.05
          },
          "xaxis": {
           "automargin": true,
           "gridcolor": "white",
           "linecolor": "white",
           "ticks": "",
           "title": {
            "standoff": 15
           },
           "zerolinecolor": "white",
           "zerolinewidth": 2
          },
          "yaxis": {
           "automargin": true,
           "gridcolor": "white",
           "linecolor": "white",
           "ticks": "",
           "title": {
            "standoff": 15
           },
           "zerolinecolor": "white",
           "zerolinewidth": 2
          }
         }
        }
       }
      },
      "text/html": [
       "<div>                            <div id=\"26db9da4-33c6-4431-81aa-5323ae870e21\" class=\"plotly-graph-div\" style=\"height:525px; width:100%;\"></div>            <script type=\"text/javascript\">                require([\"plotly\"], function(Plotly) {                    window.PLOTLYENV=window.PLOTLYENV || {};                                    if (document.getElementById(\"26db9da4-33c6-4431-81aa-5323ae870e21\")) {                    Plotly.newPlot(                        \"26db9da4-33c6-4431-81aa-5323ae870e21\",                        [{\"hovertemplate\":\"Name=Olivia<br>Percentage=%{r}<br>Month=%{theta}<extra></extra>\",\"legendgroup\":\"Olivia\",\"marker\":{\"color\":\"#636efa\",\"pattern\":{\"shape\":\"\"}},\"name\":\"Olivia\",\"r\":[1.2096077414895454,1.1243913235945109,1.1277753847358736,1.1724335144409495,1.2294753704445334,1.3179636478086394,1.359015910430171,1.33554042361085,1.3078656666789816,1.06430155210643,1.1364520899820971,0.9596161535385845],\"showlegend\":true,\"subplot\":\"polar\",\"theta\":[\"January\",\"February\",\"March\",\"April\",\"May\",\"June\",\"July\",\"August\",\"September\",\"October\",\"November\",\"December\"],\"type\":\"barpolar\"},{\"hovertemplate\":\"Name=Amelia<br>Percentage=%{r}<br>Month=%{theta}<extra></extra>\",\"legendgroup\":\"Amelia\",\"marker\":{\"color\":\"#EF553B\",\"pattern\":{\"shape\":\"\"}},\"name\":\"Amelia\",\"r\":[0.9633661655434596,1.0535635236830456,1.1512707052512041,1.0866456963111237,1.001201441730076,1.0228971594932725,1.0349145550972305,0.9029005680749408,1.1600842354158198,1.0458240946045825,0.9418541293687241,1.09156337465014],\"showlegend\":true,\"subplot\":\"polar\",\"theta\":[\"January\",\"February\",\"March\",\"April\",\"May\",\"June\",\"July\",\"August\",\"September\",\"October\",\"November\",\"December\"],\"type\":\"barpolar\"},{\"hovertemplate\":\"Name=Isla<br>Percentage=%{r}<br>Month=%{theta}<extra></extra>\",\"legendgroup\":\"Isla\",\"marker\":{\"color\":\"#00cc96\",\"pattern\":{\"shape\":\"\"}},\"name\":\"Isla\",\"r\":[0.9158458614135131,0.8056662239929173,0.8575791988095703,0.861963315494914,0.8890668802563075,0.8537257061924621,0.9096935769004124,0.9254730822768142,0.9494956958658145,0.9238728750923874,0.7667159648166887,0.8916433426629348],\"showlegend\":true,\"subplot\":\"polar\",\"theta\":[\"January\",\"February\",\"March\",\"April\",\"May\",\"June\",\"July\",\"August\",\"September\",\"October\",\"November\",\"December\"],\"type\":\"barpolar\"},{\"hovertemplate\":\"Name=Mia<br>Percentage=%{r}<br>Month=%{theta}<extra></extra>\",\"legendgroup\":\"Mia\",\"marker\":{\"color\":\"#ab63fa\",\"pattern\":{\"shape\":\"\"}},\"name\":\"Mia\",\"r\":[0.8294453084499741,0.734838424081452,0.7067282160218963,0.7199622314894957,0.7992044784914556,0.7980197288210736,0.6757297081167534],\"showlegend\":true,\"subplot\":\"polar\",\"theta\":[\"January\",\"February\",\"April\",\"June\",\"July\",\"September\",\"December\"],\"type\":\"barpolar\"},{\"hovertemplate\":\"Name=Ava<br>Percentage=%{r}<br>Month=%{theta}<extra></extra>\",\"legendgroup\":\"Ava\",\"marker\":{\"color\":\"#FFA15A\",\"pattern\":{\"shape\":\"\"}},\"name\":\"Ava\",\"r\":[0.8164852255054432,0.8189464364763169,0.8967380663351217,0.8497079129049389,0.7769323187825391,0.8851994649461011,0.7402769593400118,0.8539934539708814,0.9458011600842354,0.894308943089431,0.8056355569393633,0.8516593362654938],\"showlegend\":true,\"subplot\":\"polar\",\"theta\":[\"January\",\"February\",\"March\",\"April\",\"May\",\"June\",\"July\",\"August\",\"September\",\"October\",\"November\",\"December\"],\"type\":\"barpolar\"},{\"hovertemplate\":\"Name=Ivy<br>Percentage=%{r}<br>Month=%{theta}<extra></extra>\",\"legendgroup\":\"Ivy\",\"marker\":{\"color\":\"#19d3f3\",\"pattern\":{\"shape\":\"\"}},\"name\":\"Ivy\",\"r\":[0.7473647831346121,0.7259849490925188,0.6852801816971453,0.6863025450386046,0.8009611533840608,0.6924226925800614,0.7144961697112552,0.7185583687596403,0.8017142646026527,0.6873614190687362,0.700552658208142,0.8836465413834467],\"showlegend\":true,\"subplot\":\"polar\",\"theta\":[\"January\",\"February\",\"March\",\"April\",\"May\",\"June\",\"July\",\"August\",\"September\",\"October\",\"November\",\"December\"],\"type\":\"barpolar\"},{\"hovertemplate\":\"Name=Sophia<br>Percentage=%{r}<br>Month=%{theta}<extra></extra>\",\"legendgroup\":\"Sophia\",\"marker\":{\"color\":\"#FF6692\",\"pattern\":{\"shape\":\"\"}},\"name\":\"Sophia\",\"r\":[0.7171245895973735,0.7729275130156188,0.6757297081167534],\"showlegend\":true,\"subplot\":\"polar\",\"theta\":[\"January\",\"May\",\"December\"],\"type\":\"barpolar\"},{\"hovertemplate\":\"Name=Lily<br>Percentage=%{r}<br>Month=%{theta}<extra></extra>\",\"legendgroup\":\"Lily\",\"marker\":{\"color\":\"#B6E880\",\"pattern\":{\"shape\":\"\"}},\"name\":\"Lily\",\"r\":[0.6955244513564887,0.7479343697380272,0.6863025450386046,0.7328794553464157,0.6963569124242662,0.7476428992339422,0.7900379970655732,0.7093508700631765,0.6873614190687362,0.7161204950572119,0.7197121151539384],\"showlegend\":true,\"subplot\":\"polar\",\"theta\":[\"January\",\"March\",\"April\",\"May\",\"June\",\"July\",\"August\",\"September\",\"October\",\"November\",\"December\"],\"type\":\"barpolar\"},{\"hovertemplate\":\"Name=Florence<br>Percentage=%{r}<br>Month=%{theta}<extra></extra>\",\"legendgroup\":\"Florence\",\"marker\":{\"color\":\"#FF97FF\",\"pattern\":{\"shape\":\"\"}},\"name\":\"Florence\",\"r\":[0.6825643684119578,0.7171314741035857,0.7849419303163796,0.7238964513337005,0.7298446258605772,0.8201869435105478,0.7612712490761272,0.6966606989958746,0.743702518992403],\"showlegend\":true,\"subplot\":\"polar\",\"theta\":[\"January\",\"February\",\"May\",\"June\",\"August\",\"September\",\"October\",\"November\",\"December\"],\"type\":\"barpolar\"},{\"hovertemplate\":\"Name=Isabella<br>Percentage=%{r}<br>Month=%{theta}<extra></extra>\",\"legendgroup\":\"Isabella\",\"marker\":{\"color\":\"#FECB52\",\"pattern\":{\"shape\":\"\"}},\"name\":\"Isabella\",\"r\":[0.673924313115604,0.6994245241257193,0.7048596154599209,0.7048458149779736,0.7110341973590159,0.7021433850702143],\"showlegend\":true,\"subplot\":\"polar\",\"theta\":[\"January\",\"February\",\"March\",\"May\",\"August\",\"October\"],\"type\":\"barpolar\"},{\"hovertemplate\":\"Name=Freya<br>Percentage=%{r}<br>Month=%{theta}<extra></extra>\",\"legendgroup\":\"Freya\",\"marker\":{\"color\":\"#636efa\",\"pattern\":{\"shape\":\"\"}},\"name\":\"Freya\",\"r\":[0.7613988490482514,0.7283549359752516,0.6863025450386046,0.7317648910221103,0.7365939893930465,0.7260825401602649,0.746296227878967,0.7797487065779749,0.7044446174204094],\"showlegend\":true,\"subplot\":\"polar\",\"theta\":[\"February\",\"March\",\"April\",\"June\",\"July\",\"August\",\"September\",\"October\",\"November\"],\"type\":\"barpolar\"},{\"hovertemplate\":\"Name=Rosie<br>Percentage=%{r}<br>Month=%{theta}<extra></extra>\",\"legendgroup\":\"Rosie\",\"marker\":{\"color\":\"#EF553B\",\"pattern\":{\"shape\":\"\"}},\"name\":\"Rosie\",\"r\":[0.7215582115980522,0.7244390492226965,0.7680052289717717,0.681349440188568,0.7354028085735402],\"showlegend\":true,\"subplot\":\"polar\",\"theta\":[\"February\",\"March\",\"April\",\"July\",\"October\"],\"type\":\"barpolar\"},{\"hovertemplate\":\"Name=Willow<br>Percentage=%{r}<br>Month=%{theta}<extra></extra>\",\"legendgroup\":\"Willow\",\"marker\":{\"color\":\"#00cc96\",\"pattern\":{\"shape\":\"\"}},\"name\":\"Willow\",\"r\":[0.7166072757175863,0.7488986784140969,0.7093508700631765,0.6984478935698448,0.6837265093962416],\"showlegend\":true,\"subplot\":\"polar\",\"theta\":[\"March\",\"May\",\"September\",\"October\",\"December\"],\"type\":\"barpolar\"},{\"hovertemplate\":\"Name=Daisy<br>Percentage=%{r}<br>Month=%{theta}<extra></extra>\",\"legendgroup\":\"Daisy\",\"marker\":{\"color\":\"#ab63fa\",\"pattern\":{\"shape\":\"\"}},\"name\":\"Daisy\",\"r\":[0.7148984844152131,0.7160280116452907],\"showlegend\":true,\"subplot\":\"polar\",\"theta\":[\"April\",\"June\"],\"type\":\"barpolar\"},{\"hovertemplate\":\"Name=Emily<br>Percentage=%{r}<br>Month=%{theta}<extra></extra>\",\"legendgroup\":\"Emily\",\"marker\":{\"color\":\"#FFA15A\",\"pattern\":{\"shape\":\"\"}},\"name\":\"Emily\",\"r\":[0.6985579476285796],\"showlegend\":true,\"subplot\":\"polar\",\"theta\":[\"April\"],\"type\":\"barpolar\"},{\"hovertemplate\":\"Name=Grace<br>Percentage=%{r}<br>Month=%{theta}<extra></extra>\",\"legendgroup\":\"Grace\",\"marker\":{\"color\":\"#19d3f3\",\"pattern\":{\"shape\":\"\"}},\"name\":\"Grace\",\"r\":[0.696081319976429,0.6959858545577668],\"showlegend\":true,\"subplot\":\"polar\",\"theta\":[\"July\",\"August\"],\"type\":\"barpolar\"},{\"hovertemplate\":\"Name=Poppy<br>Percentage=%{r}<br>Month=%{theta}<extra></extra>\",\"legendgroup\":\"Poppy\",\"marker\":{\"color\":\"#FF6692\",\"pattern\":{\"shape\":\"\"}},\"name\":\"Poppy\",\"r\":[0.7589320463921538],\"showlegend\":true,\"subplot\":\"polar\",\"theta\":[\"November\"],\"type\":\"barpolar\"},{\"hovertemplate\":\"Name=Sienna<br>Percentage=%{r}<br>Month=%{theta}<extra></extra>\",\"legendgroup\":\"Sienna\",\"marker\":{\"color\":\"#B6E880\",\"pattern\":{\"shape\":\"\"}},\"name\":\"Sienna\",\"r\":[0.6966606989958746],\"showlegend\":true,\"subplot\":\"polar\",\"theta\":[\"November\"],\"type\":\"barpolar\"}],                        {\"template\":{\"data\":{\"histogram2dcontour\":[{\"type\":\"histogram2dcontour\",\"colorbar\":{\"outlinewidth\":0,\"ticks\":\"\"},\"colorscale\":[[0.0,\"#0d0887\"],[0.1111111111111111,\"#46039f\"],[0.2222222222222222,\"#7201a8\"],[0.3333333333333333,\"#9c179e\"],[0.4444444444444444,\"#bd3786\"],[0.5555555555555556,\"#d8576b\"],[0.6666666666666666,\"#ed7953\"],[0.7777777777777778,\"#fb9f3a\"],[0.8888888888888888,\"#fdca26\"],[1.0,\"#f0f921\"]]}],\"choropleth\":[{\"type\":\"choropleth\",\"colorbar\":{\"outlinewidth\":0,\"ticks\":\"\"}}],\"histogram2d\":[{\"type\":\"histogram2d\",\"colorbar\":{\"outlinewidth\":0,\"ticks\":\"\"},\"colorscale\":[[0.0,\"#0d0887\"],[0.1111111111111111,\"#46039f\"],[0.2222222222222222,\"#7201a8\"],[0.3333333333333333,\"#9c179e\"],[0.4444444444444444,\"#bd3786\"],[0.5555555555555556,\"#d8576b\"],[0.6666666666666666,\"#ed7953\"],[0.7777777777777778,\"#fb9f3a\"],[0.8888888888888888,\"#fdca26\"],[1.0,\"#f0f921\"]]}],\"heatmap\":[{\"type\":\"heatmap\",\"colorbar\":{\"outlinewidth\":0,\"ticks\":\"\"},\"colorscale\":[[0.0,\"#0d0887\"],[0.1111111111111111,\"#46039f\"],[0.2222222222222222,\"#7201a8\"],[0.3333333333333333,\"#9c179e\"],[0.4444444444444444,\"#bd3786\"],[0.5555555555555556,\"#d8576b\"],[0.6666666666666666,\"#ed7953\"],[0.7777777777777778,\"#fb9f3a\"],[0.8888888888888888,\"#fdca26\"],[1.0,\"#f0f921\"]]}],\"heatmapgl\":[{\"type\":\"heatmapgl\",\"colorbar\":{\"outlinewidth\":0,\"ticks\":\"\"},\"colorscale\":[[0.0,\"#0d0887\"],[0.1111111111111111,\"#46039f\"],[0.2222222222222222,\"#7201a8\"],[0.3333333333333333,\"#9c179e\"],[0.4444444444444444,\"#bd3786\"],[0.5555555555555556,\"#d8576b\"],[0.6666666666666666,\"#ed7953\"],[0.7777777777777778,\"#fb9f3a\"],[0.8888888888888888,\"#fdca26\"],[1.0,\"#f0f921\"]]}],\"contourcarpet\":[{\"type\":\"contourcarpet\",\"colorbar\":{\"outlinewidth\":0,\"ticks\":\"\"}}],\"contour\":[{\"type\":\"contour\",\"colorbar\":{\"outlinewidth\":0,\"ticks\":\"\"},\"colorscale\":[[0.0,\"#0d0887\"],[0.1111111111111111,\"#46039f\"],[0.2222222222222222,\"#7201a8\"],[0.3333333333333333,\"#9c179e\"],[0.4444444444444444,\"#bd3786\"],[0.5555555555555556,\"#d8576b\"],[0.6666666666666666,\"#ed7953\"],[0.7777777777777778,\"#fb9f3a\"],[0.8888888888888888,\"#fdca26\"],[1.0,\"#f0f921\"]]}],\"surface\":[{\"type\":\"surface\",\"colorbar\":{\"outlinewidth\":0,\"ticks\":\"\"},\"colorscale\":[[0.0,\"#0d0887\"],[0.1111111111111111,\"#46039f\"],[0.2222222222222222,\"#7201a8\"],[0.3333333333333333,\"#9c179e\"],[0.4444444444444444,\"#bd3786\"],[0.5555555555555556,\"#d8576b\"],[0.6666666666666666,\"#ed7953\"],[0.7777777777777778,\"#fb9f3a\"],[0.8888888888888888,\"#fdca26\"],[1.0,\"#f0f921\"]]}],\"mesh3d\":[{\"type\":\"mesh3d\",\"colorbar\":{\"outlinewidth\":0,\"ticks\":\"\"}}],\"scatter\":[{\"fillpattern\":{\"fillmode\":\"overlay\",\"size\":10,\"solidity\":0.2},\"type\":\"scatter\"}],\"parcoords\":[{\"type\":\"parcoords\",\"line\":{\"colorbar\":{\"outlinewidth\":0,\"ticks\":\"\"}}}],\"scatterpolargl\":[{\"type\":\"scatterpolargl\",\"marker\":{\"colorbar\":{\"outlinewidth\":0,\"ticks\":\"\"}}}],\"bar\":[{\"error_x\":{\"color\":\"#2a3f5f\"},\"error_y\":{\"color\":\"#2a3f5f\"},\"marker\":{\"line\":{\"color\":\"#E5ECF6\",\"width\":0.5},\"pattern\":{\"fillmode\":\"overlay\",\"size\":10,\"solidity\":0.2}},\"type\":\"bar\"}],\"scattergeo\":[{\"type\":\"scattergeo\",\"marker\":{\"colorbar\":{\"outlinewidth\":0,\"ticks\":\"\"}}}],\"scatterpolar\":[{\"type\":\"scatterpolar\",\"marker\":{\"colorbar\":{\"outlinewidth\":0,\"ticks\":\"\"}}}],\"histogram\":[{\"marker\":{\"pattern\":{\"fillmode\":\"overlay\",\"size\":10,\"solidity\":0.2}},\"type\":\"histogram\"}],\"scattergl\":[{\"type\":\"scattergl\",\"marker\":{\"colorbar\":{\"outlinewidth\":0,\"ticks\":\"\"}}}],\"scatter3d\":[{\"type\":\"scatter3d\",\"line\":{\"colorbar\":{\"outlinewidth\":0,\"ticks\":\"\"}},\"marker\":{\"colorbar\":{\"outlinewidth\":0,\"ticks\":\"\"}}}],\"scattermapbox\":[{\"type\":\"scattermapbox\",\"marker\":{\"colorbar\":{\"outlinewidth\":0,\"ticks\":\"\"}}}],\"scatterternary\":[{\"type\":\"scatterternary\",\"marker\":{\"colorbar\":{\"outlinewidth\":0,\"ticks\":\"\"}}}],\"scattercarpet\":[{\"type\":\"scattercarpet\",\"marker\":{\"colorbar\":{\"outlinewidth\":0,\"ticks\":\"\"}}}],\"carpet\":[{\"aaxis\":{\"endlinecolor\":\"#2a3f5f\",\"gridcolor\":\"white\",\"linecolor\":\"white\",\"minorgridcolor\":\"white\",\"startlinecolor\":\"#2a3f5f\"},\"baxis\":{\"endlinecolor\":\"#2a3f5f\",\"gridcolor\":\"white\",\"linecolor\":\"white\",\"minorgridcolor\":\"white\",\"startlinecolor\":\"#2a3f5f\"},\"type\":\"carpet\"}],\"table\":[{\"cells\":{\"fill\":{\"color\":\"#EBF0F8\"},\"line\":{\"color\":\"white\"}},\"header\":{\"fill\":{\"color\":\"#C8D4E3\"},\"line\":{\"color\":\"white\"}},\"type\":\"table\"}],\"barpolar\":[{\"marker\":{\"line\":{\"color\":\"#E5ECF6\",\"width\":0.5},\"pattern\":{\"fillmode\":\"overlay\",\"size\":10,\"solidity\":0.2}},\"type\":\"barpolar\"}],\"pie\":[{\"automargin\":true,\"type\":\"pie\"}]},\"layout\":{\"autotypenumbers\":\"strict\",\"colorway\":[\"#636efa\",\"#EF553B\",\"#00cc96\",\"#ab63fa\",\"#FFA15A\",\"#19d3f3\",\"#FF6692\",\"#B6E880\",\"#FF97FF\",\"#FECB52\"],\"font\":{\"color\":\"#2a3f5f\"},\"hovermode\":\"closest\",\"hoverlabel\":{\"align\":\"left\"},\"paper_bgcolor\":\"white\",\"plot_bgcolor\":\"#E5ECF6\",\"polar\":{\"bgcolor\":\"#E5ECF6\",\"angularaxis\":{\"gridcolor\":\"white\",\"linecolor\":\"white\",\"ticks\":\"\"},\"radialaxis\":{\"gridcolor\":\"white\",\"linecolor\":\"white\",\"ticks\":\"\"}},\"ternary\":{\"bgcolor\":\"#E5ECF6\",\"aaxis\":{\"gridcolor\":\"white\",\"linecolor\":\"white\",\"ticks\":\"\"},\"baxis\":{\"gridcolor\":\"white\",\"linecolor\":\"white\",\"ticks\":\"\"},\"caxis\":{\"gridcolor\":\"white\",\"linecolor\":\"white\",\"ticks\":\"\"}},\"coloraxis\":{\"colorbar\":{\"outlinewidth\":0,\"ticks\":\"\"}},\"colorscale\":{\"sequential\":[[0.0,\"#0d0887\"],[0.1111111111111111,\"#46039f\"],[0.2222222222222222,\"#7201a8\"],[0.3333333333333333,\"#9c179e\"],[0.4444444444444444,\"#bd3786\"],[0.5555555555555556,\"#d8576b\"],[0.6666666666666666,\"#ed7953\"],[0.7777777777777778,\"#fb9f3a\"],[0.8888888888888888,\"#fdca26\"],[1.0,\"#f0f921\"]],\"sequentialminus\":[[0.0,\"#0d0887\"],[0.1111111111111111,\"#46039f\"],[0.2222222222222222,\"#7201a8\"],[0.3333333333333333,\"#9c179e\"],[0.4444444444444444,\"#bd3786\"],[0.5555555555555556,\"#d8576b\"],[0.6666666666666666,\"#ed7953\"],[0.7777777777777778,\"#fb9f3a\"],[0.8888888888888888,\"#fdca26\"],[1.0,\"#f0f921\"]],\"diverging\":[[0,\"#8e0152\"],[0.1,\"#c51b7d\"],[0.2,\"#de77ae\"],[0.3,\"#f1b6da\"],[0.4,\"#fde0ef\"],[0.5,\"#f7f7f7\"],[0.6,\"#e6f5d0\"],[0.7,\"#b8e186\"],[0.8,\"#7fbc41\"],[0.9,\"#4d9221\"],[1,\"#276419\"]]},\"xaxis\":{\"gridcolor\":\"white\",\"linecolor\":\"white\",\"ticks\":\"\",\"title\":{\"standoff\":15},\"zerolinecolor\":\"white\",\"automargin\":true,\"zerolinewidth\":2},\"yaxis\":{\"gridcolor\":\"white\",\"linecolor\":\"white\",\"ticks\":\"\",\"title\":{\"standoff\":15},\"zerolinecolor\":\"white\",\"automargin\":true,\"zerolinewidth\":2},\"scene\":{\"xaxis\":{\"backgroundcolor\":\"#E5ECF6\",\"gridcolor\":\"white\",\"linecolor\":\"white\",\"showbackground\":true,\"ticks\":\"\",\"zerolinecolor\":\"white\",\"gridwidth\":2},\"yaxis\":{\"backgroundcolor\":\"#E5ECF6\",\"gridcolor\":\"white\",\"linecolor\":\"white\",\"showbackground\":true,\"ticks\":\"\",\"zerolinecolor\":\"white\",\"gridwidth\":2},\"zaxis\":{\"backgroundcolor\":\"#E5ECF6\",\"gridcolor\":\"white\",\"linecolor\":\"white\",\"showbackground\":true,\"ticks\":\"\",\"zerolinecolor\":\"white\",\"gridwidth\":2}},\"shapedefaults\":{\"line\":{\"color\":\"#2a3f5f\"}},\"annotationdefaults\":{\"arrowcolor\":\"#2a3f5f\",\"arrowhead\":0,\"arrowwidth\":1},\"geo\":{\"bgcolor\":\"white\",\"landcolor\":\"#E5ECF6\",\"subunitcolor\":\"white\",\"showland\":true,\"showlakes\":true,\"lakecolor\":\"white\"},\"title\":{\"x\":0.05},\"mapbox\":{\"style\":\"light\"}}},\"polar\":{\"domain\":{\"x\":[0.0,1.0],\"y\":[0.0,1.0]},\"angularaxis\":{\"direction\":\"clockwise\",\"rotation\":90}},\"legend\":{\"title\":{\"text\":\"Name\"},\"tracegroupgap\":0},\"margin\":{\"t\":60},\"barmode\":\"relative\"},                        {\"responsive\": true}                    ).then(function(){\n",
       "                            \n",
       "var gd = document.getElementById('26db9da4-33c6-4431-81aa-5323ae870e21');\n",
       "var x = new MutationObserver(function (mutations, observer) {{\n",
       "        var display = window.getComputedStyle(gd).display;\n",
       "        if (!display || display === 'none') {{\n",
       "            console.log([gd, 'removed!']);\n",
       "            Plotly.purge(gd);\n",
       "            observer.disconnect();\n",
       "        }}\n",
       "}});\n",
       "\n",
       "// Listen for the removal of the full notebook cells\n",
       "var notebookContainer = gd.closest('#notebook-container');\n",
       "if (notebookContainer) {{\n",
       "    x.observe(notebookContainer, {childList: true});\n",
       "}}\n",
       "\n",
       "// Listen for the clearing of the current output cell\n",
       "var outputEl = gd.closest('.output');\n",
       "if (outputEl) {{\n",
       "    x.observe(outputEl, {childList: true});\n",
       "}}\n",
       "\n",
       "                        })                };                });            </script>        </div>"
      ]
     },
     "metadata": {},
     "output_type": "display_data"
    }
   ],
   "source": [
    "import plotly.express as px\n",
    "\n",
    "fig = px.bar_polar(girls_data, r=\"Percentage\", theta=\"Month\",\n",
    "                   color=\"Name\")\n",
    "fig.show()"
   ]
  },
  {
   "cell_type": "code",
   "execution_count": null,
   "id": "d27dcd08",
   "metadata": {},
   "outputs": [],
   "source": []
  }
 ],
 "metadata": {
  "hide_input": false,
  "kernelspec": {
   "display_name": "Python 3 (ipykernel)",
   "language": "python",
   "name": "python3"
  },
  "language_info": {
   "codemirror_mode": {
    "name": "ipython",
    "version": 3
   },
   "file_extension": ".py",
   "mimetype": "text/x-python",
   "name": "python",
   "nbconvert_exporter": "python",
   "pygments_lexer": "ipython3",
   "version": "3.9.10"
  },
  "toc": {
   "base_numbering": 1,
   "nav_menu": {},
   "number_sections": true,
   "sideBar": true,
   "skip_h1_title": false,
   "title_cell": "Table of Contents",
   "title_sidebar": "Contents",
   "toc_cell": false,
   "toc_position": {},
   "toc_section_display": true,
   "toc_window_display": false
  }
 },
 "nbformat": 4,
 "nbformat_minor": 5
}
